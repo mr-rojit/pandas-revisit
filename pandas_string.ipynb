{
 "cells": [
  {
   "cell_type": "code",
   "execution_count": 12,
   "id": "984be3a9-ffdc-44a0-9619-004f59cd15ae",
   "metadata": {},
   "outputs": [],
   "source": [
    "import numpy as np\n",
    "import pandas as pd"
   ]
  },
  {
   "cell_type": "markdown",
   "id": "6bc35948-8bab-41ba-ad7b-05beb3cfd245",
   "metadata": {},
   "source": [
    "## <center>Working With String</center>"
   ]
  },
  {
   "cell_type": "code",
   "execution_count": 13,
   "id": "fa320e81-3720-4241-a140-ef3d3e0ad78f",
   "metadata": {},
   "outputs": [
    {
     "data": {
      "text/plain": [
       "0    Rojit Manandhar\n",
       "1          Elon Musk\n",
       "2         Bill Gates\n",
       "3         Larry Page\n",
       "dtype: object"
      ]
     },
     "execution_count": 13,
     "metadata": {},
     "output_type": "execute_result"
    }
   ],
   "source": [
    "names = pd.Series(['Rojit Manandhar', 'Elon Musk', 'Bill Gates', 'Larry Page'])\n",
    "names"
   ]
  },
  {
   "cell_type": "code",
   "execution_count": 14,
   "id": "e156a7f0-c25f-4378-a061-434c4f4e5e41",
   "metadata": {},
   "outputs": [
    {
     "data": {
      "text/plain": [
       "0    Rojit-Manandhar\n",
       "1          Elon-Musk\n",
       "2         Bill-Gates\n",
       "3         Larry-Page\n",
       "dtype: object"
      ]
     },
     "execution_count": 14,
     "metadata": {},
     "output_type": "execute_result"
    }
   ],
   "source": [
    "# Replacing \n",
    "names = names.str.replace(' ', '-')\n",
    "names"
   ]
  },
  {
   "cell_type": "code",
   "execution_count": 15,
   "id": "155cc7a4-4f77-45da-97f6-8c934a66b78a",
   "metadata": {},
   "outputs": [
    {
     "data": {
      "text/plain": [
       "0    15\n",
       "1     9\n",
       "2    10\n",
       "3    10\n",
       "dtype: int64"
      ]
     },
     "execution_count": 15,
     "metadata": {},
     "output_type": "execute_result"
    }
   ],
   "source": [
    "# counting length\n",
    "names.str.len()"
   ]
  },
  {
   "cell_type": "code",
   "execution_count": 16,
   "id": "257916ef-a930-4ceb-812b-cf6a6fbce252",
   "metadata": {},
   "outputs": [
    {
     "data": {
      "text/plain": [
       "0    rojit-manandhar\n",
       "1          elon-musk\n",
       "2         bill-gates\n",
       "3         larry-page\n",
       "dtype: object"
      ]
     },
     "execution_count": 16,
     "metadata": {},
     "output_type": "execute_result"
    }
   ],
   "source": [
    "# converting to lower case\n",
    "names = names.str.lower()\n",
    "names"
   ]
  },
  {
   "cell_type": "code",
   "execution_count": 17,
   "id": "4ccc0323-e02b-4ea6-bfe9-41ed3f685f7f",
   "metadata": {},
   "outputs": [
    {
     "data": {
      "text/plain": [
       "str"
      ]
     },
     "execution_count": 17,
     "metadata": {},
     "output_type": "execute_result"
    }
   ],
   "source": [
    "type(names[0])"
   ]
  },
  {
   "cell_type": "code",
   "execution_count": 18,
   "id": "8d3e5bd3-d14a-4832-a51c-0ac664c5fe2f",
   "metadata": {},
   "outputs": [
    {
     "data": {
      "text/plain": [
       "0    [rojit, manandhar]\n",
       "1          [elon, musk]\n",
       "2         [bill, gates]\n",
       "3         [larry, page]\n",
       "dtype: object"
      ]
     },
     "execution_count": 18,
     "metadata": {},
     "output_type": "execute_result"
    }
   ],
   "source": [
    "# string split , similar to core python\n",
    "names = names.str.split('-')\n",
    "names"
   ]
  },
  {
   "cell_type": "code",
   "execution_count": 19,
   "id": "746d9fb7-a2bc-4b65-903f-49c80e7400ce",
   "metadata": {},
   "outputs": [
    {
     "data": {
      "text/plain": [
       "list"
      ]
     },
     "execution_count": 19,
     "metadata": {},
     "output_type": "execute_result"
    }
   ],
   "source": [
    "# now converts the data type to list\n",
    "type(names[0])"
   ]
  },
  {
   "cell_type": "code",
   "execution_count": 9,
   "id": "099e136e-3f86-43ce-a399-230e42946353",
   "metadata": {},
   "outputs": [
    {
     "data": {
      "text/plain": [
       "0    [manandhar, rojit]\n",
       "1          [musk, elon]\n",
       "2         [gates, bill]\n",
       "3         [page, larry]\n",
       "dtype: object"
      ]
     },
     "execution_count": 9,
     "metadata": {},
     "output_type": "execute_result"
    }
   ],
   "source": [
    "# swap the order of firstname and lastname using list comprehension\n",
    "names = pd.Series([ i[::-1] for i in names])\n",
    "names"
   ]
  },
  {
   "cell_type": "code",
   "execution_count": 20,
   "id": "cc655221-0939-40d1-a575-f2f559b768ab",
   "metadata": {},
   "outputs": [
    {
     "data": {
      "text/plain": [
       "['rojit manandhar', 'elon musk', 'bill gates', 'larry page']"
      ]
     },
     "execution_count": 20,
     "metadata": {},
     "output_type": "execute_result"
    }
   ],
   "source": [
    "# join the list \n",
    "names = [' '.join(i) for i in names]\n",
    "names"
   ]
  },
  {
   "cell_type": "code",
   "execution_count": null,
   "id": "0f01d843-c999-4fb6-83e4-6f38ef53cd84",
   "metadata": {},
   "outputs": [],
   "source": []
  }
 ],
 "metadata": {
  "kernelspec": {
   "display_name": "Python 3 (ipykernel)",
   "language": "python",
   "name": "python3"
  },
  "language_info": {
   "codemirror_mode": {
    "name": "ipython",
    "version": 3
   },
   "file_extension": ".py",
   "mimetype": "text/x-python",
   "name": "python",
   "nbconvert_exporter": "python",
   "pygments_lexer": "ipython3",
   "version": "3.10.12"
  }
 },
 "nbformat": 4,
 "nbformat_minor": 5
}
