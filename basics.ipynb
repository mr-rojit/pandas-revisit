{
 "cells": [
  {
   "cell_type": "code",
   "execution_count": 1,
   "id": "01a84a34-89db-401b-a0a1-a67502d87045",
   "metadata": {},
   "outputs": [],
   "source": [
    "# Importing numpy and pandas\n",
    "import numpy as np\n",
    "import pandas as pd"
   ]
  },
  {
   "cell_type": "markdown",
   "id": "4f637b4a-66fe-4f80-ae47-25d68e9a8ca1",
   "metadata": {},
   "source": [
    "## <center>Pandas Dataframe </center>"
   ]
  },
  {
   "cell_type": "code",
   "execution_count": 2,
   "id": "bbd6a8bc-625a-4ef8-b79d-f6a1c046bba2",
   "metadata": {},
   "outputs": [
    {
     "data": {
      "text/html": [
       "<div>\n",
       "<style scoped>\n",
       "    .dataframe tbody tr th:only-of-type {\n",
       "        vertical-align: middle;\n",
       "    }\n",
       "\n",
       "    .dataframe tbody tr th {\n",
       "        vertical-align: top;\n",
       "    }\n",
       "\n",
       "    .dataframe thead th {\n",
       "        text-align: right;\n",
       "    }\n",
       "</style>\n",
       "<table border=\"1\" class=\"dataframe\">\n",
       "  <thead>\n",
       "    <tr style=\"text-align: right;\">\n",
       "      <th></th>\n",
       "      <th>names</th>\n",
       "      <th>city</th>\n",
       "      <th>score</th>\n",
       "      <th>company</th>\n",
       "      <th>genius</th>\n",
       "      <th>profession</th>\n",
       "    </tr>\n",
       "  </thead>\n",
       "  <tbody>\n",
       "    <tr>\n",
       "      <th>0</th>\n",
       "      <td>Rojit</td>\n",
       "      <td>Toronto</td>\n",
       "      <td>79</td>\n",
       "      <td>Job less</td>\n",
       "      <td>False</td>\n",
       "      <td>Programming</td>\n",
       "    </tr>\n",
       "    <tr>\n",
       "      <th>1</th>\n",
       "      <td>Mark</td>\n",
       "      <td>California</td>\n",
       "      <td>98</td>\n",
       "      <td>Facebook</td>\n",
       "      <td>True</td>\n",
       "      <td>Business</td>\n",
       "    </tr>\n",
       "    <tr>\n",
       "      <th>2</th>\n",
       "      <td>Elon</td>\n",
       "      <td>Los Angeles</td>\n",
       "      <td>49</td>\n",
       "      <td>Tesla</td>\n",
       "      <td>True</td>\n",
       "      <td>Business</td>\n",
       "    </tr>\n",
       "    <tr>\n",
       "      <th>3</th>\n",
       "      <td>Bill</td>\n",
       "      <td>NY</td>\n",
       "      <td>88</td>\n",
       "      <td>Microsoft</td>\n",
       "      <td>False</td>\n",
       "      <td>Programming</td>\n",
       "    </tr>\n",
       "    <tr>\n",
       "      <th>4</th>\n",
       "      <td>Larry</td>\n",
       "      <td>DC</td>\n",
       "      <td>48</td>\n",
       "      <td>Google</td>\n",
       "      <td>False</td>\n",
       "      <td>None</td>\n",
       "    </tr>\n",
       "    <tr>\n",
       "      <th>5</th>\n",
       "      <td>Hinton</td>\n",
       "      <td>Toronto</td>\n",
       "      <td>100</td>\n",
       "      <td>Google</td>\n",
       "      <td>True</td>\n",
       "      <td>Programming</td>\n",
       "    </tr>\n",
       "  </tbody>\n",
       "</table>\n",
       "</div>"
      ],
      "text/plain": [
       "    names         city  score    company  genius   profession\n",
       "0   Rojit      Toronto     79   Job less   False  Programming\n",
       "1    Mark   California     98   Facebook    True     Business\n",
       "2    Elon  Los Angeles     49      Tesla    True     Business\n",
       "3    Bill           NY     88  Microsoft   False  Programming\n",
       "4   Larry           DC     48     Google   False         None\n",
       "5  Hinton      Toronto    100     Google    True  Programming"
      ]
     },
     "execution_count": 2,
     "metadata": {},
     "output_type": "execute_result"
    }
   ],
   "source": [
    "# creating pandas dataframe from python dictinoary\n",
    "scores = {\n",
    "    \"names\": ['Rojit', 'Mark', 'Elon', 'Bill', 'Larry', 'Hinton'],\n",
    "    \"city\": ['Toronto', 'California', 'Los Angeles', 'NY','DC', 'Toronto'],\n",
    "    \"score\": [79, 98, 49, 88, 48, 100],\n",
    "    \"company\":[\"Job less\", 'Facebook', 'Tesla', 'Microsoft', 'Google', 'Google'],\n",
    "    \"genius\":[False, True, True, False, False, True],\n",
    "    \"profession\": [\"Programming\", 'Business', 'Business', 'Programming', None, 'Programming']\n",
    "}\n",
    "df = pd.DataFrame(scores)\n",
    "df"
   ]
  },
  {
   "cell_type": "code",
   "execution_count": 3,
   "id": "278301fe-fe1e-49ee-a52d-23eb20d3b370",
   "metadata": {},
   "outputs": [
    {
     "name": "stdout",
     "output_type": "stream",
     "text": [
      "0     Rojit\n",
      "1      Mark\n",
      "2      Elon\n",
      "3      Bill\n",
      "4     Larry\n",
      "5    Hinton\n",
      "Name: names, dtype: object\n",
      "<class 'pandas.core.series.Series'>\n"
     ]
    }
   ],
   "source": [
    "# get only names from dataframe\n",
    "print(df['names'])\n",
    "print(type(df['names']))  #  it returns a pandas series"
   ]
  },
  {
   "cell_type": "code",
   "execution_count": 4,
   "id": "327018ae-cfd1-4ffc-8fb1-b046b4f6586d",
   "metadata": {},
   "outputs": [
    {
     "data": {
      "text/html": [
       "<div>\n",
       "<style scoped>\n",
       "    .dataframe tbody tr th:only-of-type {\n",
       "        vertical-align: middle;\n",
       "    }\n",
       "\n",
       "    .dataframe tbody tr th {\n",
       "        vertical-align: top;\n",
       "    }\n",
       "\n",
       "    .dataframe thead th {\n",
       "        text-align: right;\n",
       "    }\n",
       "</style>\n",
       "<table border=\"1\" class=\"dataframe\">\n",
       "  <thead>\n",
       "    <tr style=\"text-align: right;\">\n",
       "      <th></th>\n",
       "      <th>names</th>\n",
       "      <th>city</th>\n",
       "      <th>score</th>\n",
       "      <th>company</th>\n",
       "      <th>genius</th>\n",
       "      <th>profession</th>\n",
       "      <th>name_city</th>\n",
       "    </tr>\n",
       "  </thead>\n",
       "  <tbody>\n",
       "    <tr>\n",
       "      <th>0</th>\n",
       "      <td>Rojit</td>\n",
       "      <td>Toronto</td>\n",
       "      <td>79</td>\n",
       "      <td>Job less</td>\n",
       "      <td>False</td>\n",
       "      <td>Programming</td>\n",
       "      <td>Rojit, Toronto</td>\n",
       "    </tr>\n",
       "    <tr>\n",
       "      <th>1</th>\n",
       "      <td>Mark</td>\n",
       "      <td>California</td>\n",
       "      <td>98</td>\n",
       "      <td>Facebook</td>\n",
       "      <td>True</td>\n",
       "      <td>Business</td>\n",
       "      <td>Mark, California</td>\n",
       "    </tr>\n",
       "    <tr>\n",
       "      <th>2</th>\n",
       "      <td>Elon</td>\n",
       "      <td>Los Angeles</td>\n",
       "      <td>49</td>\n",
       "      <td>Tesla</td>\n",
       "      <td>True</td>\n",
       "      <td>Business</td>\n",
       "      <td>Elon, Los Angeles</td>\n",
       "    </tr>\n",
       "    <tr>\n",
       "      <th>3</th>\n",
       "      <td>Bill</td>\n",
       "      <td>NY</td>\n",
       "      <td>88</td>\n",
       "      <td>Microsoft</td>\n",
       "      <td>False</td>\n",
       "      <td>Programming</td>\n",
       "      <td>Bill, NY</td>\n",
       "    </tr>\n",
       "    <tr>\n",
       "      <th>4</th>\n",
       "      <td>Larry</td>\n",
       "      <td>DC</td>\n",
       "      <td>48</td>\n",
       "      <td>Google</td>\n",
       "      <td>False</td>\n",
       "      <td>None</td>\n",
       "      <td>Larry, DC</td>\n",
       "    </tr>\n",
       "    <tr>\n",
       "      <th>5</th>\n",
       "      <td>Hinton</td>\n",
       "      <td>Toronto</td>\n",
       "      <td>100</td>\n",
       "      <td>Google</td>\n",
       "      <td>True</td>\n",
       "      <td>Programming</td>\n",
       "      <td>Hinton, Toronto</td>\n",
       "    </tr>\n",
       "  </tbody>\n",
       "</table>\n",
       "</div>"
      ],
      "text/plain": [
       "    names         city  score    company  genius   profession  \\\n",
       "0   Rojit      Toronto     79   Job less   False  Programming   \n",
       "1    Mark   California     98   Facebook    True     Business   \n",
       "2    Elon  Los Angeles     49      Tesla    True     Business   \n",
       "3    Bill           NY     88  Microsoft   False  Programming   \n",
       "4   Larry           DC     48     Google   False         None   \n",
       "5  Hinton      Toronto    100     Google    True  Programming   \n",
       "\n",
       "           name_city  \n",
       "0     Rojit, Toronto  \n",
       "1   Mark, California  \n",
       "2  Elon, Los Angeles  \n",
       "3           Bill, NY  \n",
       "4          Larry, DC  \n",
       "5    Hinton, Toronto  "
      ]
     },
     "execution_count": 4,
     "metadata": {},
     "output_type": "execute_result"
    }
   ],
   "source": [
    "# create new column in pandas dataframe\n",
    "df['name_city']= df['names']+ ', '+df['city']\n",
    "df"
   ]
  },
  {
   "cell_type": "markdown",
   "id": "7960bcff-4ce9-439c-acd4-1c0447b9a24a",
   "metadata": {},
   "source": [
    "## <center> Filtering dataframe </center>"
   ]
  },
  {
   "cell_type": "code",
   "execution_count": 5,
   "id": "63c5c19b-9fae-436b-8ba8-118fc737cc9a",
   "metadata": {},
   "outputs": [
    {
     "data": {
      "text/plain": [
       "0     True\n",
       "1     True\n",
       "2    False\n",
       "3     True\n",
       "4    False\n",
       "5     True\n",
       "Name: score, dtype: bool"
      ]
     },
     "execution_count": 5,
     "metadata": {},
     "output_type": "execute_result"
    }
   ],
   "source": [
    "# Returning series with score greater than 50 only\n",
    "df['score'] > 50"
   ]
  },
  {
   "cell_type": "code",
   "execution_count": 6,
   "id": "dd2d029c-8a5e-4437-b882-35868ae5ebf1",
   "metadata": {},
   "outputs": [
    {
     "data": {
      "text/html": [
       "<div>\n",
       "<style scoped>\n",
       "    .dataframe tbody tr th:only-of-type {\n",
       "        vertical-align: middle;\n",
       "    }\n",
       "\n",
       "    .dataframe tbody tr th {\n",
       "        vertical-align: top;\n",
       "    }\n",
       "\n",
       "    .dataframe thead th {\n",
       "        text-align: right;\n",
       "    }\n",
       "</style>\n",
       "<table border=\"1\" class=\"dataframe\">\n",
       "  <thead>\n",
       "    <tr style=\"text-align: right;\">\n",
       "      <th></th>\n",
       "      <th>names</th>\n",
       "      <th>city</th>\n",
       "      <th>score</th>\n",
       "      <th>company</th>\n",
       "      <th>genius</th>\n",
       "      <th>profession</th>\n",
       "      <th>name_city</th>\n",
       "    </tr>\n",
       "  </thead>\n",
       "  <tbody>\n",
       "    <tr>\n",
       "      <th>0</th>\n",
       "      <td>Rojit</td>\n",
       "      <td>Toronto</td>\n",
       "      <td>79</td>\n",
       "      <td>Job less</td>\n",
       "      <td>False</td>\n",
       "      <td>Programming</td>\n",
       "      <td>Rojit, Toronto</td>\n",
       "    </tr>\n",
       "    <tr>\n",
       "      <th>1</th>\n",
       "      <td>Mark</td>\n",
       "      <td>California</td>\n",
       "      <td>98</td>\n",
       "      <td>Facebook</td>\n",
       "      <td>True</td>\n",
       "      <td>Business</td>\n",
       "      <td>Mark, California</td>\n",
       "    </tr>\n",
       "    <tr>\n",
       "      <th>3</th>\n",
       "      <td>Bill</td>\n",
       "      <td>NY</td>\n",
       "      <td>88</td>\n",
       "      <td>Microsoft</td>\n",
       "      <td>False</td>\n",
       "      <td>Programming</td>\n",
       "      <td>Bill, NY</td>\n",
       "    </tr>\n",
       "    <tr>\n",
       "      <th>5</th>\n",
       "      <td>Hinton</td>\n",
       "      <td>Toronto</td>\n",
       "      <td>100</td>\n",
       "      <td>Google</td>\n",
       "      <td>True</td>\n",
       "      <td>Programming</td>\n",
       "      <td>Hinton, Toronto</td>\n",
       "    </tr>\n",
       "  </tbody>\n",
       "</table>\n",
       "</div>"
      ],
      "text/plain": [
       "    names        city  score    company  genius   profession         name_city\n",
       "0   Rojit     Toronto     79   Job less   False  Programming    Rojit, Toronto\n",
       "1    Mark  California     98   Facebook    True     Business  Mark, California\n",
       "3    Bill          NY     88  Microsoft   False  Programming          Bill, NY\n",
       "5  Hinton     Toronto    100     Google    True  Programming   Hinton, Toronto"
      ]
     },
     "execution_count": 6,
     "metadata": {},
     "output_type": "execute_result"
    }
   ],
   "source": [
    "condition = df['score'] > 50  # same as previous cell\n",
    "# passing the same condition to dataframe to filter out the rows which return true\n",
    "df[condition]"
   ]
  },
  {
   "cell_type": "markdown",
   "id": "ba45841b-8ead-4994-b3c6-44bde204ab47",
   "metadata": {},
   "source": [
    "##  <center>Basic dataframe methods and attributes</center>"
   ]
  },
  {
   "cell_type": "code",
   "execution_count": 7,
   "id": "59e20123-baa4-46d7-b3e6-f045d6ca3093",
   "metadata": {},
   "outputs": [
    {
     "data": {
      "text/html": [
       "<div>\n",
       "<style scoped>\n",
       "    .dataframe tbody tr th:only-of-type {\n",
       "        vertical-align: middle;\n",
       "    }\n",
       "\n",
       "    .dataframe tbody tr th {\n",
       "        vertical-align: top;\n",
       "    }\n",
       "\n",
       "    .dataframe thead th {\n",
       "        text-align: right;\n",
       "    }\n",
       "</style>\n",
       "<table border=\"1\" class=\"dataframe\">\n",
       "  <thead>\n",
       "    <tr style=\"text-align: right;\">\n",
       "      <th></th>\n",
       "      <th>names</th>\n",
       "      <th>city</th>\n",
       "      <th>score</th>\n",
       "      <th>company</th>\n",
       "      <th>genius</th>\n",
       "      <th>profession</th>\n",
       "      <th>name_city</th>\n",
       "    </tr>\n",
       "  </thead>\n",
       "  <tbody>\n",
       "    <tr>\n",
       "      <th>0</th>\n",
       "      <td>Rojit</td>\n",
       "      <td>Toronto</td>\n",
       "      <td>79</td>\n",
       "      <td>Job less</td>\n",
       "      <td>False</td>\n",
       "      <td>Programming</td>\n",
       "      <td>Rojit, Toronto</td>\n",
       "    </tr>\n",
       "    <tr>\n",
       "      <th>1</th>\n",
       "      <td>Mark</td>\n",
       "      <td>California</td>\n",
       "      <td>98</td>\n",
       "      <td>Facebook</td>\n",
       "      <td>True</td>\n",
       "      <td>Business</td>\n",
       "      <td>Mark, California</td>\n",
       "    </tr>\n",
       "  </tbody>\n",
       "</table>\n",
       "</div>"
      ],
      "text/plain": [
       "   names        city  score   company  genius   profession         name_city\n",
       "0  Rojit     Toronto     79  Job less   False  Programming    Rojit, Toronto\n",
       "1   Mark  California     98  Facebook    True     Business  Mark, California"
      ]
     },
     "execution_count": 7,
     "metadata": {},
     "output_type": "execute_result"
    }
   ],
   "source": [
    "# use head to inspect top rows of the dataframe, pass int arguments or 5 is default\n",
    "df.head(2)"
   ]
  },
  {
   "cell_type": "code",
   "execution_count": 8,
   "id": "2f3936b2-a0d2-4454-b091-05492fc1a5ff",
   "metadata": {},
   "outputs": [
    {
     "data": {
      "text/html": [
       "<div>\n",
       "<style scoped>\n",
       "    .dataframe tbody tr th:only-of-type {\n",
       "        vertical-align: middle;\n",
       "    }\n",
       "\n",
       "    .dataframe tbody tr th {\n",
       "        vertical-align: top;\n",
       "    }\n",
       "\n",
       "    .dataframe thead th {\n",
       "        text-align: right;\n",
       "    }\n",
       "</style>\n",
       "<table border=\"1\" class=\"dataframe\">\n",
       "  <thead>\n",
       "    <tr style=\"text-align: right;\">\n",
       "      <th></th>\n",
       "      <th>names</th>\n",
       "      <th>city</th>\n",
       "      <th>score</th>\n",
       "      <th>company</th>\n",
       "      <th>genius</th>\n",
       "      <th>profession</th>\n",
       "      <th>name_city</th>\n",
       "    </tr>\n",
       "  </thead>\n",
       "  <tbody>\n",
       "    <tr>\n",
       "      <th>3</th>\n",
       "      <td>Bill</td>\n",
       "      <td>NY</td>\n",
       "      <td>88</td>\n",
       "      <td>Microsoft</td>\n",
       "      <td>False</td>\n",
       "      <td>Programming</td>\n",
       "      <td>Bill, NY</td>\n",
       "    </tr>\n",
       "    <tr>\n",
       "      <th>4</th>\n",
       "      <td>Larry</td>\n",
       "      <td>DC</td>\n",
       "      <td>48</td>\n",
       "      <td>Google</td>\n",
       "      <td>False</td>\n",
       "      <td>None</td>\n",
       "      <td>Larry, DC</td>\n",
       "    </tr>\n",
       "    <tr>\n",
       "      <th>5</th>\n",
       "      <td>Hinton</td>\n",
       "      <td>Toronto</td>\n",
       "      <td>100</td>\n",
       "      <td>Google</td>\n",
       "      <td>True</td>\n",
       "      <td>Programming</td>\n",
       "      <td>Hinton, Toronto</td>\n",
       "    </tr>\n",
       "  </tbody>\n",
       "</table>\n",
       "</div>"
      ],
      "text/plain": [
       "    names     city  score    company  genius   profession        name_city\n",
       "3    Bill       NY     88  Microsoft   False  Programming         Bill, NY\n",
       "4   Larry       DC     48     Google   False         None        Larry, DC\n",
       "5  Hinton  Toronto    100     Google    True  Programming  Hinton, Toronto"
      ]
     },
     "execution_count": 8,
     "metadata": {},
     "output_type": "execute_result"
    }
   ],
   "source": [
    "# tail to inspect bottom\n",
    "df.tail(3)"
   ]
  },
  {
   "cell_type": "code",
   "execution_count": 9,
   "id": "aa1d910c-3dfc-4469-bbe2-1eefcc669055",
   "metadata": {},
   "outputs": [
    {
     "data": {
      "text/plain": [
       "names         object\n",
       "city          object\n",
       "score          int64\n",
       "company       object\n",
       "genius          bool\n",
       "profession    object\n",
       "name_city     object\n",
       "dtype: object"
      ]
     },
     "execution_count": 9,
     "metadata": {},
     "output_type": "execute_result"
    }
   ],
   "source": [
    "# returns data type of each columns\n",
    "df.dtypes"
   ]
  },
  {
   "cell_type": "code",
   "execution_count": 10,
   "id": "1b488af4-efa0-41ef-b611-99da66b2e95a",
   "metadata": {},
   "outputs": [
    {
     "data": {
      "text/plain": [
       "(6, 7)"
      ]
     },
     "execution_count": 10,
     "metadata": {},
     "output_type": "execute_result"
    }
   ],
   "source": [
    "# returns shape of dataframe -> rows, cols\n",
    "df.shape"
   ]
  },
  {
   "cell_type": "markdown",
   "id": "d2ce6f78-81d1-480c-9df1-4b3c5e2728da",
   "metadata": {},
   "source": [
    "## <center>Subsetting data </center>"
   ]
  },
  {
   "cell_type": "code",
   "execution_count": 11,
   "id": "51736b0c-128f-433b-a89e-1d2e6cc34c59",
   "metadata": {},
   "outputs": [
    {
     "data": {
      "text/html": [
       "<div>\n",
       "<style scoped>\n",
       "    .dataframe tbody tr th:only-of-type {\n",
       "        vertical-align: middle;\n",
       "    }\n",
       "\n",
       "    .dataframe tbody tr th {\n",
       "        vertical-align: top;\n",
       "    }\n",
       "\n",
       "    .dataframe thead th {\n",
       "        text-align: right;\n",
       "    }\n",
       "</style>\n",
       "<table border=\"1\" class=\"dataframe\">\n",
       "  <thead>\n",
       "    <tr style=\"text-align: right;\">\n",
       "      <th></th>\n",
       "      <th>names</th>\n",
       "      <th>city</th>\n",
       "      <th>score</th>\n",
       "      <th>company</th>\n",
       "      <th>genius</th>\n",
       "      <th>profession</th>\n",
       "      <th>name_city</th>\n",
       "    </tr>\n",
       "  </thead>\n",
       "  <tbody>\n",
       "    <tr>\n",
       "      <th>2</th>\n",
       "      <td>Elon</td>\n",
       "      <td>Los Angeles</td>\n",
       "      <td>49</td>\n",
       "      <td>Tesla</td>\n",
       "      <td>True</td>\n",
       "      <td>Business</td>\n",
       "      <td>Elon, Los Angeles</td>\n",
       "    </tr>\n",
       "    <tr>\n",
       "      <th>3</th>\n",
       "      <td>Bill</td>\n",
       "      <td>NY</td>\n",
       "      <td>88</td>\n",
       "      <td>Microsoft</td>\n",
       "      <td>False</td>\n",
       "      <td>Programming</td>\n",
       "      <td>Bill, NY</td>\n",
       "    </tr>\n",
       "    <tr>\n",
       "      <th>4</th>\n",
       "      <td>Larry</td>\n",
       "      <td>DC</td>\n",
       "      <td>48</td>\n",
       "      <td>Google</td>\n",
       "      <td>False</td>\n",
       "      <td>None</td>\n",
       "      <td>Larry, DC</td>\n",
       "    </tr>\n",
       "  </tbody>\n",
       "</table>\n",
       "</div>"
      ],
      "text/plain": [
       "   names         city  score    company  genius   profession  \\\n",
       "2   Elon  Los Angeles     49      Tesla    True     Business   \n",
       "3   Bill           NY     88  Microsoft   False  Programming   \n",
       "4  Larry           DC     48     Google   False         None   \n",
       "\n",
       "           name_city  \n",
       "2  Elon, Los Angeles  \n",
       "3           Bill, NY  \n",
       "4          Larry, DC  "
      ]
     },
     "execution_count": 11,
     "metadata": {},
     "output_type": "execute_result"
    }
   ],
   "source": [
    "# using loc\n",
    "# returns row from index 2 to 4\n",
    "df.loc[2:4]"
   ]
  },
  {
   "cell_type": "code",
   "execution_count": 12,
   "id": "9ac004fe-d02a-4a3d-b0c0-71739c95ac23",
   "metadata": {},
   "outputs": [
    {
     "data": {
      "text/plain": [
       "('Rojit', 'Toronto')"
      ]
     },
     "execution_count": 12,
     "metadata": {},
     "output_type": "execute_result"
    }
   ],
   "source": [
    "# using key from 0 index to retrive data\n",
    "df.loc[0,'names'], df.loc[0,'city']"
   ]
  },
  {
   "cell_type": "code",
   "execution_count": 13,
   "id": "b90844e3-0414-48b6-b3c4-29c69af0f45d",
   "metadata": {},
   "outputs": [
    {
     "data": {
      "text/plain": [
       "('Bill', 'Rojit')"
      ]
     },
     "execution_count": 13,
     "metadata": {},
     "output_type": "execute_result"
    }
   ],
   "source": [
    "# using iloc \n",
    "df.iloc[3, 0] , df.iloc[0, 0] "
   ]
  },
  {
   "cell_type": "markdown",
   "id": "2706f024-ee6f-4c89-bdc8-512e136ab7c9",
   "metadata": {},
   "source": [
    "## <center>Basic Analysis</center>"
   ]
  },
  {
   "cell_type": "markdown",
   "id": "6e44cfb5-a893-485f-bfe5-ddc173ca28a8",
   "metadata": {},
   "source": [
    "#### value_counts()"
   ]
  },
  {
   "cell_type": "code",
   "execution_count": 14,
   "id": "13bde584-3a00-4ab1-a671-08eb0a24f650",
   "metadata": {},
   "outputs": [],
   "source": [
    "# Using pandas value_counts()\n",
    "# Series.value_counts(normalize=False, sort=True, ascending=False, bins=None, dropna=True)\n",
    "# Returns a pandas series with all the unique values"
   ]
  },
  {
   "cell_type": "code",
   "execution_count": 15,
   "id": "96a29ca3-eecc-4d9f-9ea2-a0b428b3528a",
   "metadata": {},
   "outputs": [
    {
     "data": {
      "text/plain": [
       "company\n",
       "Google       2\n",
       "Job less     1\n",
       "Facebook     1\n",
       "Tesla        1\n",
       "Microsoft    1\n",
       "Name: count, dtype: int64"
      ]
     },
     "execution_count": 15,
     "metadata": {},
     "output_type": "execute_result"
    }
   ],
   "source": [
    "df['company'].value_counts()"
   ]
  },
  {
   "cell_type": "code",
   "execution_count": 16,
   "id": "182ab054-767e-4135-a349-d4652fe3e2d9",
   "metadata": {},
   "outputs": [
    {
     "name": "stdout",
     "output_type": "stream",
     "text": [
      "profession\n",
      "Programming    3\n",
      "Business       2\n",
      "Name: count, dtype: int64\n",
      "\n",
      "Using dropna=False also returns count with null values \n",
      "\n",
      "profession\n",
      "Programming    3\n",
      "Business       2\n",
      "None           1\n",
      "Name: count, dtype: int64\n"
     ]
    }
   ],
   "source": [
    "print(df['profession'].value_counts())\n",
    "print(\"\\nUsing dropna=False also returns count with null values \\n\")\n",
    "print(df['profession'].value_counts(dropna=False))"
   ]
  },
  {
   "cell_type": "markdown",
   "id": "c471bf74-cc0e-42dc-aee1-d27d46f672fc",
   "metadata": {},
   "source": [
    "#### sort_values()"
   ]
  },
  {
   "cell_type": "code",
   "execution_count": 17,
   "id": "9427f582-d718-4b91-af2a-935b3dd2cdc5",
   "metadata": {},
   "outputs": [],
   "source": [
    "# DataFrame.sort_values(by, *, axis=0, ascending=True, inplace=False, kind='quicksort', na_position='last', ignore_index=False, key=None)\n",
    "# We can sort both series and dataframe\n"
   ]
  },
  {
   "cell_type": "code",
   "execution_count": 18,
   "id": "1cc9fde2-f736-4f63-b5ce-474d21162e02",
   "metadata": {},
   "outputs": [
    {
     "data": {
      "text/plain": [
       "3      Bill\n",
       "2      Elon\n",
       "5    Hinton\n",
       "4     Larry\n",
       "1      Mark\n",
       "0     Rojit\n",
       "Name: names, dtype: object"
      ]
     },
     "execution_count": 18,
     "metadata": {},
     "output_type": "execute_result"
    }
   ],
   "source": [
    "# sorting series\n",
    "# By default inplace=False so new series is returned\n",
    "df['names'].sort_values()"
   ]
  },
  {
   "cell_type": "code",
   "execution_count": 19,
   "id": "b104d98b-5453-48a8-8418-b67b191cbcff",
   "metadata": {},
   "outputs": [
    {
     "data": {
      "text/html": [
       "<div>\n",
       "<style scoped>\n",
       "    .dataframe tbody tr th:only-of-type {\n",
       "        vertical-align: middle;\n",
       "    }\n",
       "\n",
       "    .dataframe tbody tr th {\n",
       "        vertical-align: top;\n",
       "    }\n",
       "\n",
       "    .dataframe thead th {\n",
       "        text-align: right;\n",
       "    }\n",
       "</style>\n",
       "<table border=\"1\" class=\"dataframe\">\n",
       "  <thead>\n",
       "    <tr style=\"text-align: right;\">\n",
       "      <th></th>\n",
       "      <th>names</th>\n",
       "      <th>city</th>\n",
       "      <th>score</th>\n",
       "      <th>company</th>\n",
       "      <th>genius</th>\n",
       "      <th>profession</th>\n",
       "      <th>name_city</th>\n",
       "    </tr>\n",
       "  </thead>\n",
       "  <tbody>\n",
       "    <tr>\n",
       "      <th>2</th>\n",
       "      <td>Elon</td>\n",
       "      <td>Los Angeles</td>\n",
       "      <td>49</td>\n",
       "      <td>Tesla</td>\n",
       "      <td>True</td>\n",
       "      <td>Business</td>\n",
       "      <td>Elon, Los Angeles</td>\n",
       "    </tr>\n",
       "    <tr>\n",
       "      <th>3</th>\n",
       "      <td>Bill</td>\n",
       "      <td>NY</td>\n",
       "      <td>88</td>\n",
       "      <td>Microsoft</td>\n",
       "      <td>False</td>\n",
       "      <td>Programming</td>\n",
       "      <td>Bill, NY</td>\n",
       "    </tr>\n",
       "    <tr>\n",
       "      <th>0</th>\n",
       "      <td>Rojit</td>\n",
       "      <td>Toronto</td>\n",
       "      <td>79</td>\n",
       "      <td>Job less</td>\n",
       "      <td>False</td>\n",
       "      <td>Programming</td>\n",
       "      <td>Rojit, Toronto</td>\n",
       "    </tr>\n",
       "    <tr>\n",
       "      <th>4</th>\n",
       "      <td>Larry</td>\n",
       "      <td>DC</td>\n",
       "      <td>48</td>\n",
       "      <td>Google</td>\n",
       "      <td>False</td>\n",
       "      <td>None</td>\n",
       "      <td>Larry, DC</td>\n",
       "    </tr>\n",
       "    <tr>\n",
       "      <th>5</th>\n",
       "      <td>Hinton</td>\n",
       "      <td>Toronto</td>\n",
       "      <td>100</td>\n",
       "      <td>Google</td>\n",
       "      <td>True</td>\n",
       "      <td>Programming</td>\n",
       "      <td>Hinton, Toronto</td>\n",
       "    </tr>\n",
       "    <tr>\n",
       "      <th>1</th>\n",
       "      <td>Mark</td>\n",
       "      <td>California</td>\n",
       "      <td>98</td>\n",
       "      <td>Facebook</td>\n",
       "      <td>True</td>\n",
       "      <td>Business</td>\n",
       "      <td>Mark, California</td>\n",
       "    </tr>\n",
       "  </tbody>\n",
       "</table>\n",
       "</div>"
      ],
      "text/plain": [
       "    names         city  score    company  genius   profession  \\\n",
       "2    Elon  Los Angeles     49      Tesla    True     Business   \n",
       "3    Bill           NY     88  Microsoft   False  Programming   \n",
       "0   Rojit      Toronto     79   Job less   False  Programming   \n",
       "4   Larry           DC     48     Google   False         None   \n",
       "5  Hinton      Toronto    100     Google    True  Programming   \n",
       "1    Mark   California     98   Facebook    True     Business   \n",
       "\n",
       "           name_city  \n",
       "2  Elon, Los Angeles  \n",
       "3           Bill, NY  \n",
       "0     Rojit, Toronto  \n",
       "4          Larry, DC  \n",
       "5    Hinton, Toronto  \n",
       "1   Mark, California  "
      ]
     },
     "execution_count": 19,
     "metadata": {},
     "output_type": "execute_result"
    }
   ],
   "source": [
    "# sorting dataframe\n",
    "df.sort_values(['company', 'names'], ascending=False)\n",
    "# df is sorted by company first and then by names"
   ]
  },
  {
   "cell_type": "code",
   "execution_count": null,
   "id": "67b75bd0-3667-4e1f-96ed-1f4e2c5141d8",
   "metadata": {},
   "outputs": [],
   "source": []
  },
  {
   "cell_type": "code",
   "execution_count": null,
   "id": "0af0ba7f-5913-4059-b264-f7f169ab073b",
   "metadata": {},
   "outputs": [],
   "source": []
  }
 ],
 "metadata": {
  "kernelspec": {
   "display_name": "Python 3 (ipykernel)",
   "language": "python",
   "name": "python3"
  },
  "language_info": {
   "codemirror_mode": {
    "name": "ipython",
    "version": 3
   },
   "file_extension": ".py",
   "mimetype": "text/x-python",
   "name": "python",
   "nbconvert_exporter": "python",
   "pygments_lexer": "ipython3",
   "version": "3.10.12"
  }
 },
 "nbformat": 4,
 "nbformat_minor": 5
}
