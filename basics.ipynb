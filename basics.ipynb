{
 "cells": [
  {
   "cell_type": "code",
   "execution_count": 4,
   "id": "01a84a34-89db-401b-a0a1-a67502d87045",
   "metadata": {},
   "outputs": [],
   "source": [
    "# Importing numpy and pandas\n",
    "import numpy as np\n",
    "import pandas as pd"
   ]
  },
  {
   "cell_type": "markdown",
   "id": "4f637b4a-66fe-4f80-ae47-25d68e9a8ca1",
   "metadata": {},
   "source": [
    "## <center>Pandas Dataframe </center>"
   ]
  },
  {
   "cell_type": "code",
   "execution_count": 37,
   "id": "bbd6a8bc-625a-4ef8-b79d-f6a1c046bba2",
   "metadata": {},
   "outputs": [
    {
     "data": {
      "text/html": [
       "<div>\n",
       "<style scoped>\n",
       "    .dataframe tbody tr th:only-of-type {\n",
       "        vertical-align: middle;\n",
       "    }\n",
       "\n",
       "    .dataframe tbody tr th {\n",
       "        vertical-align: top;\n",
       "    }\n",
       "\n",
       "    .dataframe thead th {\n",
       "        text-align: right;\n",
       "    }\n",
       "</style>\n",
       "<table border=\"1\" class=\"dataframe\">\n",
       "  <thead>\n",
       "    <tr style=\"text-align: right;\">\n",
       "      <th></th>\n",
       "      <th>names</th>\n",
       "      <th>city</th>\n",
       "      <th>score</th>\n",
       "    </tr>\n",
       "  </thead>\n",
       "  <tbody>\n",
       "    <tr>\n",
       "      <th>0</th>\n",
       "      <td>Rojit</td>\n",
       "      <td>Toronto</td>\n",
       "      <td>79</td>\n",
       "    </tr>\n",
       "    <tr>\n",
       "      <th>1</th>\n",
       "      <td>Mark</td>\n",
       "      <td>California</td>\n",
       "      <td>67</td>\n",
       "    </tr>\n",
       "    <tr>\n",
       "      <th>2</th>\n",
       "      <td>Elon</td>\n",
       "      <td>Los Angeles</td>\n",
       "      <td>49</td>\n",
       "    </tr>\n",
       "    <tr>\n",
       "      <th>3</th>\n",
       "      <td>bill</td>\n",
       "      <td>NY</td>\n",
       "      <td>88</td>\n",
       "    </tr>\n",
       "    <tr>\n",
       "      <th>4</th>\n",
       "      <td>Larry</td>\n",
       "      <td>DC</td>\n",
       "      <td>48</td>\n",
       "    </tr>\n",
       "  </tbody>\n",
       "</table>\n",
       "</div>"
      ],
      "text/plain": [
       "   names         city  score\n",
       "0  Rojit      Toronto     79\n",
       "1   Mark   California     67\n",
       "2   Elon  Los Angeles     49\n",
       "3   bill           NY     88\n",
       "4  Larry           DC     48"
      ]
     },
     "execution_count": 37,
     "metadata": {},
     "output_type": "execute_result"
    }
   ],
   "source": [
    "# creating pandas dataframe from python dictinoary\n",
    "scores = {\n",
    "    \"names\": ['Rojit', 'Mark', 'Elon', 'bill', 'Larry'],\n",
    "    \"city\": ['Toronto', 'California', 'Los Angeles', 'NY','DC'],\n",
    "    \"score\": [79, 67, 49, 88, 48]\n",
    "}\n",
    "df = pd.DataFrame(scores)\n",
    "df"
   ]
  },
  {
   "cell_type": "code",
   "execution_count": 38,
   "id": "278301fe-fe1e-49ee-a52d-23eb20d3b370",
   "metadata": {},
   "outputs": [
    {
     "name": "stdout",
     "output_type": "stream",
     "text": [
      "0    Rojit\n",
      "1     Mark\n",
      "2     Elon\n",
      "3     bill\n",
      "4    Larry\n",
      "Name: names, dtype: object\n",
      "<class 'pandas.core.series.Series'>\n"
     ]
    }
   ],
   "source": [
    "# get only names from dataframe\n",
    "print(df['names'])\n",
    "print(type(df['names']))  #  it returns a pandas series"
   ]
  },
  {
   "cell_type": "code",
   "execution_count": 39,
   "id": "327018ae-cfd1-4ffc-8fb1-b046b4f6586d",
   "metadata": {},
   "outputs": [
    {
     "data": {
      "text/html": [
       "<div>\n",
       "<style scoped>\n",
       "    .dataframe tbody tr th:only-of-type {\n",
       "        vertical-align: middle;\n",
       "    }\n",
       "\n",
       "    .dataframe tbody tr th {\n",
       "        vertical-align: top;\n",
       "    }\n",
       "\n",
       "    .dataframe thead th {\n",
       "        text-align: right;\n",
       "    }\n",
       "</style>\n",
       "<table border=\"1\" class=\"dataframe\">\n",
       "  <thead>\n",
       "    <tr style=\"text-align: right;\">\n",
       "      <th></th>\n",
       "      <th>names</th>\n",
       "      <th>city</th>\n",
       "      <th>score</th>\n",
       "      <th>name_city</th>\n",
       "    </tr>\n",
       "  </thead>\n",
       "  <tbody>\n",
       "    <tr>\n",
       "      <th>0</th>\n",
       "      <td>Rojit</td>\n",
       "      <td>Toronto</td>\n",
       "      <td>79</td>\n",
       "      <td>Rojit, Toronto</td>\n",
       "    </tr>\n",
       "    <tr>\n",
       "      <th>1</th>\n",
       "      <td>Mark</td>\n",
       "      <td>California</td>\n",
       "      <td>67</td>\n",
       "      <td>Mark, California</td>\n",
       "    </tr>\n",
       "    <tr>\n",
       "      <th>2</th>\n",
       "      <td>Elon</td>\n",
       "      <td>Los Angeles</td>\n",
       "      <td>49</td>\n",
       "      <td>Elon, Los Angeles</td>\n",
       "    </tr>\n",
       "    <tr>\n",
       "      <th>3</th>\n",
       "      <td>bill</td>\n",
       "      <td>NY</td>\n",
       "      <td>88</td>\n",
       "      <td>bill, NY</td>\n",
       "    </tr>\n",
       "    <tr>\n",
       "      <th>4</th>\n",
       "      <td>Larry</td>\n",
       "      <td>DC</td>\n",
       "      <td>48</td>\n",
       "      <td>Larry, DC</td>\n",
       "    </tr>\n",
       "  </tbody>\n",
       "</table>\n",
       "</div>"
      ],
      "text/plain": [
       "   names         city  score          name_city\n",
       "0  Rojit      Toronto     79     Rojit, Toronto\n",
       "1   Mark   California     67   Mark, California\n",
       "2   Elon  Los Angeles     49  Elon, Los Angeles\n",
       "3   bill           NY     88           bill, NY\n",
       "4  Larry           DC     48          Larry, DC"
      ]
     },
     "execution_count": 39,
     "metadata": {},
     "output_type": "execute_result"
    }
   ],
   "source": [
    "# create new column in pandas dataframe\n",
    "df['name_city']= df['names']+ ', '+df['city']\n",
    "df"
   ]
  },
  {
   "cell_type": "markdown",
   "id": "7960bcff-4ce9-439c-acd4-1c0447b9a24a",
   "metadata": {},
   "source": [
    "## <center> Filtering dataframe </center>"
   ]
  },
  {
   "cell_type": "code",
   "execution_count": 40,
   "id": "63c5c19b-9fae-436b-8ba8-118fc737cc9a",
   "metadata": {},
   "outputs": [
    {
     "data": {
      "text/plain": [
       "0     True\n",
       "1     True\n",
       "2    False\n",
       "3     True\n",
       "4    False\n",
       "Name: score, dtype: bool"
      ]
     },
     "execution_count": 40,
     "metadata": {},
     "output_type": "execute_result"
    }
   ],
   "source": [
    "# Returning series with score greater than 50 only\n",
    "df['score'] > 50"
   ]
  },
  {
   "cell_type": "code",
   "execution_count": 41,
   "id": "dd2d029c-8a5e-4437-b882-35868ae5ebf1",
   "metadata": {},
   "outputs": [
    {
     "data": {
      "text/html": [
       "<div>\n",
       "<style scoped>\n",
       "    .dataframe tbody tr th:only-of-type {\n",
       "        vertical-align: middle;\n",
       "    }\n",
       "\n",
       "    .dataframe tbody tr th {\n",
       "        vertical-align: top;\n",
       "    }\n",
       "\n",
       "    .dataframe thead th {\n",
       "        text-align: right;\n",
       "    }\n",
       "</style>\n",
       "<table border=\"1\" class=\"dataframe\">\n",
       "  <thead>\n",
       "    <tr style=\"text-align: right;\">\n",
       "      <th></th>\n",
       "      <th>names</th>\n",
       "      <th>city</th>\n",
       "      <th>score</th>\n",
       "      <th>name_city</th>\n",
       "    </tr>\n",
       "  </thead>\n",
       "  <tbody>\n",
       "    <tr>\n",
       "      <th>0</th>\n",
       "      <td>Rojit</td>\n",
       "      <td>Toronto</td>\n",
       "      <td>79</td>\n",
       "      <td>Rojit, Toronto</td>\n",
       "    </tr>\n",
       "    <tr>\n",
       "      <th>1</th>\n",
       "      <td>Mark</td>\n",
       "      <td>California</td>\n",
       "      <td>67</td>\n",
       "      <td>Mark, California</td>\n",
       "    </tr>\n",
       "    <tr>\n",
       "      <th>3</th>\n",
       "      <td>bill</td>\n",
       "      <td>NY</td>\n",
       "      <td>88</td>\n",
       "      <td>bill, NY</td>\n",
       "    </tr>\n",
       "  </tbody>\n",
       "</table>\n",
       "</div>"
      ],
      "text/plain": [
       "   names        city  score         name_city\n",
       "0  Rojit     Toronto     79    Rojit, Toronto\n",
       "1   Mark  California     67  Mark, California\n",
       "3   bill          NY     88          bill, NY"
      ]
     },
     "execution_count": 41,
     "metadata": {},
     "output_type": "execute_result"
    }
   ],
   "source": [
    "condition = df['score'] > 50  # same as previous cell\n",
    "# passing the same condition to dataframe to filter out the rows which return true\n",
    "df[condition]"
   ]
  },
  {
   "cell_type": "markdown",
   "id": "ba45841b-8ead-4994-b3c6-44bde204ab47",
   "metadata": {},
   "source": [
    "##  <center>Basic dataframe methods and attributes</center>"
   ]
  },
  {
   "cell_type": "code",
   "execution_count": 47,
   "id": "59e20123-baa4-46d7-b3e6-f045d6ca3093",
   "metadata": {},
   "outputs": [
    {
     "data": {
      "text/html": [
       "<div>\n",
       "<style scoped>\n",
       "    .dataframe tbody tr th:only-of-type {\n",
       "        vertical-align: middle;\n",
       "    }\n",
       "\n",
       "    .dataframe tbody tr th {\n",
       "        vertical-align: top;\n",
       "    }\n",
       "\n",
       "    .dataframe thead th {\n",
       "        text-align: right;\n",
       "    }\n",
       "</style>\n",
       "<table border=\"1\" class=\"dataframe\">\n",
       "  <thead>\n",
       "    <tr style=\"text-align: right;\">\n",
       "      <th></th>\n",
       "      <th>names</th>\n",
       "      <th>city</th>\n",
       "      <th>score</th>\n",
       "      <th>name_city</th>\n",
       "    </tr>\n",
       "  </thead>\n",
       "  <tbody>\n",
       "    <tr>\n",
       "      <th>0</th>\n",
       "      <td>Rojit</td>\n",
       "      <td>Toronto</td>\n",
       "      <td>79</td>\n",
       "      <td>Rojit, Toronto</td>\n",
       "    </tr>\n",
       "    <tr>\n",
       "      <th>1</th>\n",
       "      <td>Mark</td>\n",
       "      <td>California</td>\n",
       "      <td>67</td>\n",
       "      <td>Mark, California</td>\n",
       "    </tr>\n",
       "  </tbody>\n",
       "</table>\n",
       "</div>"
      ],
      "text/plain": [
       "   names        city  score         name_city\n",
       "0  Rojit     Toronto     79    Rojit, Toronto\n",
       "1   Mark  California     67  Mark, California"
      ]
     },
     "execution_count": 47,
     "metadata": {},
     "output_type": "execute_result"
    }
   ],
   "source": [
    "# use head to inspect top rows of the dataframe, pass int arguments or 5 is default\n",
    "df.head(2)"
   ]
  },
  {
   "cell_type": "code",
   "execution_count": 48,
   "id": "2f3936b2-a0d2-4454-b091-05492fc1a5ff",
   "metadata": {},
   "outputs": [
    {
     "data": {
      "text/html": [
       "<div>\n",
       "<style scoped>\n",
       "    .dataframe tbody tr th:only-of-type {\n",
       "        vertical-align: middle;\n",
       "    }\n",
       "\n",
       "    .dataframe tbody tr th {\n",
       "        vertical-align: top;\n",
       "    }\n",
       "\n",
       "    .dataframe thead th {\n",
       "        text-align: right;\n",
       "    }\n",
       "</style>\n",
       "<table border=\"1\" class=\"dataframe\">\n",
       "  <thead>\n",
       "    <tr style=\"text-align: right;\">\n",
       "      <th></th>\n",
       "      <th>names</th>\n",
       "      <th>city</th>\n",
       "      <th>score</th>\n",
       "      <th>name_city</th>\n",
       "    </tr>\n",
       "  </thead>\n",
       "  <tbody>\n",
       "    <tr>\n",
       "      <th>2</th>\n",
       "      <td>Elon</td>\n",
       "      <td>Los Angeles</td>\n",
       "      <td>49</td>\n",
       "      <td>Elon, Los Angeles</td>\n",
       "    </tr>\n",
       "    <tr>\n",
       "      <th>3</th>\n",
       "      <td>bill</td>\n",
       "      <td>NY</td>\n",
       "      <td>88</td>\n",
       "      <td>bill, NY</td>\n",
       "    </tr>\n",
       "    <tr>\n",
       "      <th>4</th>\n",
       "      <td>Larry</td>\n",
       "      <td>DC</td>\n",
       "      <td>48</td>\n",
       "      <td>Larry, DC</td>\n",
       "    </tr>\n",
       "  </tbody>\n",
       "</table>\n",
       "</div>"
      ],
      "text/plain": [
       "   names         city  score          name_city\n",
       "2   Elon  Los Angeles     49  Elon, Los Angeles\n",
       "3   bill           NY     88           bill, NY\n",
       "4  Larry           DC     48          Larry, DC"
      ]
     },
     "execution_count": 48,
     "metadata": {},
     "output_type": "execute_result"
    }
   ],
   "source": [
    "# tail to inspect bottom\n",
    "df.tail(3)"
   ]
  },
  {
   "cell_type": "code",
   "execution_count": 49,
   "id": "aa1d910c-3dfc-4469-bbe2-1eefcc669055",
   "metadata": {},
   "outputs": [
    {
     "data": {
      "text/plain": [
       "names        object\n",
       "city         object\n",
       "score         int64\n",
       "name_city    object\n",
       "dtype: object"
      ]
     },
     "execution_count": 49,
     "metadata": {},
     "output_type": "execute_result"
    }
   ],
   "source": [
    "# returns data type of each columns\n",
    "df.dtypes"
   ]
  },
  {
   "cell_type": "code",
   "execution_count": 51,
   "id": "1b488af4-efa0-41ef-b611-99da66b2e95a",
   "metadata": {},
   "outputs": [
    {
     "data": {
      "text/plain": [
       "(5, 4)"
      ]
     },
     "execution_count": 51,
     "metadata": {},
     "output_type": "execute_result"
    }
   ],
   "source": [
    "# returns shape of dataframe -> rows, cols\n",
    "df.shape"
   ]
  },
  {
   "cell_type": "markdown",
   "id": "d2ce6f78-81d1-480c-9df1-4b3c5e2728da",
   "metadata": {},
   "source": [
    "## <center>Subsetting data </center>"
   ]
  },
  {
   "cell_type": "code",
   "execution_count": 58,
   "id": "51736b0c-128f-433b-a89e-1d2e6cc34c59",
   "metadata": {},
   "outputs": [
    {
     "data": {
      "text/html": [
       "<div>\n",
       "<style scoped>\n",
       "    .dataframe tbody tr th:only-of-type {\n",
       "        vertical-align: middle;\n",
       "    }\n",
       "\n",
       "    .dataframe tbody tr th {\n",
       "        vertical-align: top;\n",
       "    }\n",
       "\n",
       "    .dataframe thead th {\n",
       "        text-align: right;\n",
       "    }\n",
       "</style>\n",
       "<table border=\"1\" class=\"dataframe\">\n",
       "  <thead>\n",
       "    <tr style=\"text-align: right;\">\n",
       "      <th></th>\n",
       "      <th>names</th>\n",
       "      <th>city</th>\n",
       "      <th>score</th>\n",
       "      <th>name_city</th>\n",
       "    </tr>\n",
       "  </thead>\n",
       "  <tbody>\n",
       "    <tr>\n",
       "      <th>2</th>\n",
       "      <td>Elon</td>\n",
       "      <td>Los Angeles</td>\n",
       "      <td>49</td>\n",
       "      <td>Elon, Los Angeles</td>\n",
       "    </tr>\n",
       "    <tr>\n",
       "      <th>3</th>\n",
       "      <td>bill</td>\n",
       "      <td>NY</td>\n",
       "      <td>88</td>\n",
       "      <td>bill, NY</td>\n",
       "    </tr>\n",
       "    <tr>\n",
       "      <th>4</th>\n",
       "      <td>Larry</td>\n",
       "      <td>DC</td>\n",
       "      <td>48</td>\n",
       "      <td>Larry, DC</td>\n",
       "    </tr>\n",
       "  </tbody>\n",
       "</table>\n",
       "</div>"
      ],
      "text/plain": [
       "   names         city  score          name_city\n",
       "2   Elon  Los Angeles     49  Elon, Los Angeles\n",
       "3   bill           NY     88           bill, NY\n",
       "4  Larry           DC     48          Larry, DC"
      ]
     },
     "execution_count": 58,
     "metadata": {},
     "output_type": "execute_result"
    }
   ],
   "source": [
    "# using loc\n",
    "# returns row from index 2 to 4\n",
    "df.loc[2:5]"
   ]
  },
  {
   "cell_type": "code",
   "execution_count": 67,
   "id": "9ac004fe-d02a-4a3d-b0c0-71739c95ac23",
   "metadata": {},
   "outputs": [
    {
     "data": {
      "text/plain": [
       "('Rojit', 'Toronto')"
      ]
     },
     "execution_count": 67,
     "metadata": {},
     "output_type": "execute_result"
    }
   ],
   "source": [
    "# using key from 0 index to retrive data\n",
    "df.loc[0,'names'], df.loc[0,'city']"
   ]
  },
  {
   "cell_type": "code",
   "execution_count": 68,
   "id": "b90844e3-0414-48b6-b3c4-29c69af0f45d",
   "metadata": {},
   "outputs": [
    {
     "data": {
      "text/plain": [
       "('bill', 'Rojit')"
      ]
     },
     "execution_count": 68,
     "metadata": {},
     "output_type": "execute_result"
    }
   ],
   "source": [
    "# using iloc \n",
    "df.iloc[3, 0] , df.iloc[0, 0] "
   ]
  },
  {
   "cell_type": "code",
   "execution_count": null,
   "id": "d1b03b84-dba4-4958-a038-fd963f890237",
   "metadata": {},
   "outputs": [],
   "source": []
  },
  {
   "cell_type": "code",
   "execution_count": null,
   "id": "13bde584-3a00-4ab1-a671-08eb0a24f650",
   "metadata": {},
   "outputs": [],
   "source": []
  }
 ],
 "metadata": {
  "kernelspec": {
   "display_name": "Python 3 (ipykernel)",
   "language": "python",
   "name": "python3"
  },
  "language_info": {
   "codemirror_mode": {
    "name": "ipython",
    "version": 3
   },
   "file_extension": ".py",
   "mimetype": "text/x-python",
   "name": "python",
   "nbconvert_exporter": "python",
   "pygments_lexer": "ipython3",
   "version": "3.10.12"
  }
 },
 "nbformat": 4,
 "nbformat_minor": 5
}
