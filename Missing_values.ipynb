{
 "cells": [
  {
   "cell_type": "markdown",
   "id": "cf51f6f3-0010-4dd9-b707-c8605148fe22",
   "metadata": {},
   "source": [
    "# <center>Basic Missing Value Imputation</center>"
   ]
  },
  {
   "cell_type": "code",
   "execution_count": 2,
   "id": "4e01cb23-1123-4509-b907-25caabb6b0e9",
   "metadata": {},
   "outputs": [],
   "source": [
    "import pandas as pd"
   ]
  },
  {
   "cell_type": "code",
   "execution_count": 3,
   "id": "4981fc98-13e7-4beb-bc99-a252a1694f13",
   "metadata": {},
   "outputs": [
    {
     "data": {
      "text/html": [
       "<div>\n",
       "<style scoped>\n",
       "    .dataframe tbody tr th:only-of-type {\n",
       "        vertical-align: middle;\n",
       "    }\n",
       "\n",
       "    .dataframe tbody tr th {\n",
       "        vertical-align: top;\n",
       "    }\n",
       "\n",
       "    .dataframe thead th {\n",
       "        text-align: right;\n",
       "    }\n",
       "</style>\n",
       "<table border=\"1\" class=\"dataframe\">\n",
       "  <thead>\n",
       "    <tr style=\"text-align: right;\">\n",
       "      <th></th>\n",
       "      <th>sequence</th>\n",
       "      <th>measurement_type</th>\n",
       "      <th>temperature_f</th>\n",
       "    </tr>\n",
       "  </thead>\n",
       "  <tbody>\n",
       "    <tr>\n",
       "      <th>0</th>\n",
       "      <td>1</td>\n",
       "      <td>actual</td>\n",
       "      <td>67.24</td>\n",
       "    </tr>\n",
       "    <tr>\n",
       "      <th>1</th>\n",
       "      <td>2</td>\n",
       "      <td>actual</td>\n",
       "      <td>84.56</td>\n",
       "    </tr>\n",
       "    <tr>\n",
       "      <th>2</th>\n",
       "      <td>3</td>\n",
       "      <td>actual</td>\n",
       "      <td>91.61</td>\n",
       "    </tr>\n",
       "    <tr>\n",
       "      <th>3</th>\n",
       "      <td>4</td>\n",
       "      <td>None</td>\n",
       "      <td>NaN</td>\n",
       "    </tr>\n",
       "    <tr>\n",
       "      <th>4</th>\n",
       "      <td>5</td>\n",
       "      <td>estimated</td>\n",
       "      <td>49.64</td>\n",
       "    </tr>\n",
       "  </tbody>\n",
       "</table>\n",
       "</div>"
      ],
      "text/plain": [
       "   sequence measurement_type  temperature_f\n",
       "0         1           actual          67.24\n",
       "1         2           actual          84.56\n",
       "2         3           actual          91.61\n",
       "3         4             None            NaN\n",
       "4         5        estimated          49.64"
      ]
     },
     "execution_count": 3,
     "metadata": {},
     "output_type": "execute_result"
    }
   ],
   "source": [
    "temps = pd.DataFrame({\n",
    "    \"sequence\": [1,2,3,4,5],\n",
    "    \"measurement_type\": ['actual','actual','actual', None, 'estimated'],\n",
    "    \"temperature_f\": [67.24, 84.56, 91.61, None, 49.64]\n",
    "    })\n",
    "temps"
   ]
  },
  {
   "cell_type": "code",
   "execution_count": 4,
   "id": "2aad98b6-9e55-4560-9ce1-eee595e181f7",
   "metadata": {},
   "outputs": [],
   "source": [
    "## using isna() and count() to identify null values in a dataframe"
   ]
  },
  {
   "cell_type": "code",
   "execution_count": 7,
   "id": "9a788295-2883-44b0-9ef0-a256a5f91731",
   "metadata": {},
   "outputs": [
    {
     "data": {
      "text/html": [
       "<div>\n",
       "<style scoped>\n",
       "    .dataframe tbody tr th:only-of-type {\n",
       "        vertical-align: middle;\n",
       "    }\n",
       "\n",
       "    .dataframe tbody tr th {\n",
       "        vertical-align: top;\n",
       "    }\n",
       "\n",
       "    .dataframe thead th {\n",
       "        text-align: right;\n",
       "    }\n",
       "</style>\n",
       "<table border=\"1\" class=\"dataframe\">\n",
       "  <thead>\n",
       "    <tr style=\"text-align: right;\">\n",
       "      <th></th>\n",
       "      <th>sequence</th>\n",
       "      <th>measurement_type</th>\n",
       "      <th>temperature_f</th>\n",
       "    </tr>\n",
       "  </thead>\n",
       "  <tbody>\n",
       "    <tr>\n",
       "      <th>0</th>\n",
       "      <td>False</td>\n",
       "      <td>False</td>\n",
       "      <td>False</td>\n",
       "    </tr>\n",
       "    <tr>\n",
       "      <th>1</th>\n",
       "      <td>False</td>\n",
       "      <td>False</td>\n",
       "      <td>False</td>\n",
       "    </tr>\n",
       "    <tr>\n",
       "      <th>2</th>\n",
       "      <td>False</td>\n",
       "      <td>False</td>\n",
       "      <td>False</td>\n",
       "    </tr>\n",
       "    <tr>\n",
       "      <th>3</th>\n",
       "      <td>False</td>\n",
       "      <td>True</td>\n",
       "      <td>True</td>\n",
       "    </tr>\n",
       "    <tr>\n",
       "      <th>4</th>\n",
       "      <td>False</td>\n",
       "      <td>False</td>\n",
       "      <td>False</td>\n",
       "    </tr>\n",
       "  </tbody>\n",
       "</table>\n",
       "</div>"
      ],
      "text/plain": [
       "   sequence  measurement_type  temperature_f\n",
       "0     False             False          False\n",
       "1     False             False          False\n",
       "2     False             False          False\n",
       "3     False              True           True\n",
       "4     False             False          False"
      ]
     },
     "execution_count": 7,
     "metadata": {},
     "output_type": "execute_result"
    }
   ],
   "source": [
    "temps.isna()"
   ]
  },
  {
   "cell_type": "code",
   "execution_count": 8,
   "id": "e48e8548-4c7a-417b-9d30-a9d166639bdf",
   "metadata": {},
   "outputs": [
    {
     "data": {
      "text/plain": [
       "sequence            5\n",
       "measurement_type    5\n",
       "temperature_f       5\n",
       "dtype: int64"
      ]
     },
     "execution_count": 8,
     "metadata": {},
     "output_type": "execute_result"
    }
   ],
   "source": [
    "temps.isna().count()"
   ]
  },
  {
   "cell_type": "code",
   "execution_count": null,
   "id": "8a740d5f-956d-451a-b5ab-a7399e967544",
   "metadata": {},
   "outputs": [],
   "source": []
  }
 ],
 "metadata": {
  "kernelspec": {
   "display_name": "Python 3 (ipykernel)",
   "language": "python",
   "name": "python3"
  },
  "language_info": {
   "codemirror_mode": {
    "name": "ipython",
    "version": 3
   },
   "file_extension": ".py",
   "mimetype": "text/x-python",
   "name": "python",
   "nbconvert_exporter": "python",
   "pygments_lexer": "ipython3",
   "version": "3.10.12"
  }
 },
 "nbformat": 4,
 "nbformat_minor": 5
}
